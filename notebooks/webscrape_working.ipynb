{
 "cells": [
  {
   "cell_type": "code",
   "execution_count": 1,
   "metadata": {},
   "outputs": [],
   "source": [
    "import os\n",
    "import sys\n",
    "import requests\n",
    "import time\n",
    "from io import BytesIO\n",
    "from PIL import Image\n",
    "from bs4 import BeautifulSoup\n",
    "from selenium import webdriver # used to nav webpage"
   ]
  },
  {
   "cell_type": "code",
   "execution_count": 2,
   "metadata": {},
   "outputs": [
    {
     "data": {
      "text/plain": [
       "'/Users/jeffreybaksa/Galvanize/capstones/capstone2/Image Scraper'"
      ]
     },
     "execution_count": 2,
     "metadata": {},
     "output_type": "execute_result"
    }
   ],
   "source": [
    "pwd"
   ]
  },
  {
   "cell_type": "code",
   "execution_count": 3,
   "metadata": {},
   "outputs": [
    {
     "data": {
      "text/plain": [
       "True"
      ]
     },
     "execution_count": 3,
     "metadata": {},
     "output_type": "execute_result"
    }
   ],
   "source": [
    "chrome_driver_path = '/Users/jeffreybaksa/Galvanize/capstones/capstone2/Image Scraper/chromedriver'\n",
    "os.path.exists(chrome_driver_path) # confirm the path above exists"
   ]
  },
  {
   "cell_type": "code",
   "execution_count": 4,
   "metadata": {},
   "outputs": [],
   "source": [
    "def imagescrape(search, path):\n",
    "    path = os.path.expanduser(f\"{path}\") # splits pi vs non pi\n",
    "    os.mkdir(path) # creates folder\n",
    "    search = search.replace(' ', '+') # transforming str into search URL\n",
    "    url = f'''https://www.google.com/search?as_st=y&tbm=isch&as_q=\n",
    "              {search}&as_epq=&as_oq=&as_eq=&imgar=&imgcolor=&imgtype=\n",
    "              &cr=&as_sitesearch=&as_filetype=&tbs=&sfr=vfe&safe=images\n",
    "           '''\n",
    "    # Init selenium, searching URL\n",
    "    driver = webdriver.Chrome(executable_path=chrome_driver_path)\n",
    "    driver.get(url)\n",
    "    \n",
    "    # Parse thru Google Images\n",
    "    scroll_pause_time = 1\n",
    "    scroll_height = driver.execute_script('return document.body.scrollHeight') # how long is the page?\n",
    "    while True:\n",
    "        driver.execute_script('window.scrollTo(0, document.body.scrollHeight);') # scrolls down to the bottom\n",
    "        time.sleep(scroll_pause_time)\n",
    "        new_scroll_height = driver.execute_script('return document.body.scrollHeight')\n",
    "        if new_scroll_height == scroll_height: # check if scroll height has changed\n",
    "            try:\n",
    "                driver.find_element_by_css_selector(\"input[jsaction='Pmjnye']\").click() # click load more images button\n",
    "                continue\n",
    "            except:\n",
    "                break # stop the while loop\n",
    "        scroll_height = new_scroll_height\n",
    "    \n",
    "    # Turn into BeautifulSoup\n",
    "    page = driver.page_source\n",
    "    soup = BeautifulSoup(page, 'html.parser')\n",
    "    images = soup.find_all('img')\n",
    "    url_strings = [] \n",
    "    for i in images:\n",
    "        pic = i.get('data-src')\n",
    "        if pic == None:\n",
    "            continue\n",
    "        url_strings.append(pic)\n",
    "        \n",
    "    # Let me know how many pictures we should expect in the folder\n",
    "    url_strings = url_strings[1::]\n",
    "    print(f\"Expecting: {len(url_strings)} pics\")\n",
    "    \n",
    "    # Save the images into the folder\n",
    "    acc = 0\n",
    "    for pic in url_strings:\n",
    "        try:\n",
    "            response = requests.get(str(pic)) # cast pic as string, originally saved as the literal URL\n",
    "            img = Image.open(BytesIO(response.content)) # Use Bytes to transform the content into a form that Image.open can read\n",
    "            img.save(f\"{path}/{acc}.jpg\")\n",
    "            acc += 1\n",
    "        except:\n",
    "            print(f\"Picture {acc} bad\") # prints which images aren't able to be saved\n",
    "            acc += 1\n",
    "            print(pic) # provides link to the image that can't be saved\n",
    "    driver.close()"
   ]
  },
  {
   "cell_type": "code",
   "execution_count": null,
   "metadata": {},
   "outputs": [
    {
     "name": "stdout",
     "output_type": "stream",
     "text": [
      "Expecting: 241 pics\n",
      "Picture 101 bad\n",
      "https://encrypted-tbn0.gstatic.com/images?q=tbn:ANd9GcSAbnlzn7QlHhgSUbZ_wY9AvaNP_yrAP_8w5g&usqp=CAU\n",
      "Picture 128 bad\n",
      "https://encrypted-tbn0.gstatic.com/images?q=tbn:ANd9GcQBNQ_0Yh-p3JNhBAZAmPqxjV7PdrtaHhpu1g&usqp=CAU\n",
      "Picture 136 bad\n",
      "https://encrypted-tbn0.gstatic.com/images?q=tbn:ANd9GcQF2pNIKw2lm45TCbSm4-_rndY1VC6Q0EGSBQ&usqp=CAU\n",
      "Picture 152 bad\n",
      "https://encrypted-tbn0.gstatic.com/images?q=tbn:ANd9GcQQl_0UqCpG92Ky-Mju5GK9zHdG1zczTs5Qhg&usqp=CAU\n",
      "Picture 160 bad\n",
      "https://encrypted-tbn0.gstatic.com/images?q=tbn:ANd9GcRZK3s1ZGWdRk8xjyq5_H65nht02w4adtKWrw&usqp=CAU\n",
      "Picture 170 bad\n",
      "https://encrypted-tbn0.gstatic.com/images?q=tbn:ANd9GcTtd1j2hWxQ-kEttV--He-6te9iwvijTj6Vtg&usqp=CAU\n",
      "Picture 177 bad\n",
      "https://encrypted-tbn0.gstatic.com/images?q=tbn:ANd9GcT066_sXkspRKfk_-_tEZyvgUcBAWggv2_-3g&usqp=CAU\n",
      "Picture 178 bad\n",
      "https://encrypted-tbn0.gstatic.com/images?q=tbn:ANd9GcRKL26BAWgPO89KB8ykpOnft_Dcd8-yJAQJFw&usqp=CAU\n",
      "Picture 179 bad\n",
      "https://encrypted-tbn0.gstatic.com/images?q=tbn:ANd9GcSNPLfh9nwYqrFlml4F7uOKZrytaLMajdbEzA&usqp=CAU\n",
      "Picture 180 bad\n",
      "https://encrypted-tbn0.gstatic.com/images?q=tbn:ANd9GcR6C-wd2E7wj4Oai6aWTa-Zufvxa7iJlCQwVQ&usqp=CAU\n",
      "Picture 181 bad\n",
      "https://encrypted-tbn0.gstatic.com/images?q=tbn:ANd9GcTSlfk_J4ylIg4oqiAW2LPZZH383mKgXEvDSw&usqp=CAU\n",
      "Picture 182 bad\n",
      "https://encrypted-tbn0.gstatic.com/images?q=tbn:ANd9GcRCMZ3Of4x8-c8xVK2bKFnCMFYDiUr68l8nIw&usqp=CAU\n",
      "Picture 183 bad\n",
      "https://encrypted-tbn0.gstatic.com/images?q=tbn:ANd9GcS7wY48CV7d6w6fRD-I8px5ai7ZPuBYyBKmjA&usqp=CAU\n",
      "Picture 184 bad\n",
      "https://encrypted-tbn0.gstatic.com/images?q=tbn:ANd9GcSfr28esArMFbOF10il-lgWj2uIgI4yzZcujg&usqp=CAU\n",
      "Picture 185 bad\n",
      "https://encrypted-tbn0.gstatic.com/images?q=tbn:ANd9GcQQfFEb7a6LeSPsjGL0OwvAilZvY_8OAWAy0Q&usqp=CAU\n",
      "Picture 186 bad\n",
      "https://encrypted-tbn0.gstatic.com/images?q=tbn:ANd9GcSWVGSpA-hRhyUNDMyp-r9ZHiZisV04BslJwg&usqp=CAU\n",
      "Picture 187 bad\n",
      "https://encrypted-tbn0.gstatic.com/images?q=tbn:ANd9GcSAl9zb1I-7EjyCOECmdaQs4VGy6qVEqnV2GQ&usqp=CAU\n",
      "Picture 188 bad\n",
      "https://encrypted-tbn0.gstatic.com/images?q=tbn:ANd9GcRXYF40vpv2E-bAZu_zE3cE1_-cdT-NnN_y3Q&usqp=CAU\n",
      "Picture 189 bad\n",
      "https://encrypted-tbn0.gstatic.com/images?q=tbn:ANd9GcR6sO2sAC2wDu-yslcZR67_yv5l8K0SLkf0gg&usqp=CAU\n",
      "Picture 190 bad\n",
      "https://encrypted-tbn0.gstatic.com/images?q=tbn:ANd9GcQuxuPIkQyLFq-muyHcxJ1OGLmWy31SMmskEQ&usqp=CAU\n",
      "Picture 191 bad\n",
      "https://encrypted-tbn0.gstatic.com/images?q=tbn:ANd9GcSLtvLvNNhOgsOl5t3O5UDIPO92_Sw7KsrhQQ&usqp=CAU\n",
      "Picture 192 bad\n",
      "https://encrypted-tbn0.gstatic.com/images?q=tbn:ANd9GcQse0Q7xptINnZzP60J0Dz3cG7alBqOHFw6lw&usqp=CAU\n",
      "Picture 193 bad\n",
      "https://encrypted-tbn0.gstatic.com/images?q=tbn:ANd9GcR3A7Xa6UFBfh81OFVlOycf0xxNPOBt8pdtCQ&usqp=CAU\n",
      "Picture 194 bad\n",
      "https://encrypted-tbn0.gstatic.com/images?q=tbn:ANd9GcRRqfY0TVbeNr8Qy_LNo8Zad50XYKsogBAFuQ&usqp=CAU\n",
      "Picture 195 bad\n",
      "https://encrypted-tbn0.gstatic.com/images?q=tbn:ANd9GcRQ6St0ralIxcCI60sZJx8l6l2mycWKOxZsDQ&usqp=CAU\n",
      "Picture 196 bad\n",
      "https://encrypted-tbn0.gstatic.com/images?q=tbn:ANd9GcRwD64Jxp1CnqPj6LnKgWlC9I1MWTVaFUvmOw&usqp=CAU\n",
      "Picture 197 bad\n",
      "https://encrypted-tbn0.gstatic.com/images?q=tbn:ANd9GcSOzRHYruTzYH-2_zfaQCA2iLXmjy3LFaC_JA&usqp=CAU\n",
      "Picture 198 bad\n",
      "https://encrypted-tbn0.gstatic.com/images?q=tbn:ANd9GcSDP8AqWnL8IteC6w050iMiCu-rkfpaEb5l2A&usqp=CAU\n",
      "Picture 199 bad\n",
      "https://encrypted-tbn0.gstatic.com/images?q=tbn:ANd9GcQFkrhoCXwdch-woJBqw02jpaFBdn8qtHpErQ&usqp=CAU\n",
      "Picture 200 bad\n",
      "https://encrypted-tbn0.gstatic.com/images?q=tbn:ANd9GcQ3cB9wT9PTmLgKZiX4hkwLs-swU_7Lyu97dQ&usqp=CAU\n",
      "Picture 201 bad\n",
      "https://encrypted-tbn0.gstatic.com/images?q=tbn:ANd9GcQ0Tk7VbzAtRBxcMYm3g8P0CXGfPvB7hYE27Q&usqp=CAU\n",
      "Picture 202 bad\n",
      "https://encrypted-tbn0.gstatic.com/images?q=tbn:ANd9GcRGeD7JI-DXiZK9bxE1vpcZJtAfqXhJx7CrnQ&usqp=CAU\n",
      "Picture 203 bad\n",
      "https://encrypted-tbn0.gstatic.com/images?q=tbn:ANd9GcSMeq65_KtBps8Wwzesb_yKZvCX7pFooK-dQA&usqp=CAU\n",
      "Picture 204 bad\n",
      "https://encrypted-tbn0.gstatic.com/images?q=tbn:ANd9GcRTuOSHpNrCls0O2_X-1BRvgImDgUgwvJDRiQ&usqp=CAU\n",
      "Picture 205 bad\n",
      "https://encrypted-tbn0.gstatic.com/images?q=tbn:ANd9GcRuq8hi4F7WD5XyFhfKF8vsCc-zPm_pPOV8JQ&usqp=CAU\n",
      "Picture 206 bad\n",
      "https://encrypted-tbn0.gstatic.com/images?q=tbn:ANd9GcQzFbNl_0W-ZfdNe8iDdVpbsSGItTMYqEWXPA&usqp=CAU\n",
      "Picture 207 bad\n",
      "https://encrypted-tbn0.gstatic.com/images?q=tbn:ANd9GcQjxUHYqURGAfc7iARDCgUyDgpwY03jm5DiSQ&usqp=CAU\n",
      "Picture 208 bad\n",
      "https://encrypted-tbn0.gstatic.com/images?q=tbn:ANd9GcS8eRgLe7jw1fIm3nxEQHRT_UTeoOU50DB0Kg&usqp=CAU\n",
      "Picture 209 bad\n",
      "https://encrypted-tbn0.gstatic.com/images?q=tbn:ANd9GcQUjUEniIrU_fF7aYeeFUzMgSbNyY4Y9XazYA&usqp=CAU\n",
      "Picture 210 bad\n",
      "https://encrypted-tbn0.gstatic.com/images?q=tbn:ANd9GcTceRAZLP3ptQzu5-UOQ9yLu9AHaBetZH4ZIQ&usqp=CAU\n",
      "Picture 211 bad\n",
      "https://encrypted-tbn0.gstatic.com/images?q=tbn:ANd9GcSsmW5_1-Z13WU9-WZJvgvEmLakWrXEUJtl_w&usqp=CAU\n",
      "Picture 212 bad\n",
      "https://encrypted-tbn0.gstatic.com/images?q=tbn:ANd9GcRCjN2EK_aByGgJ9HqxysGR_AqsnFbGsCyZog&usqp=CAU\n",
      "Picture 213 bad\n",
      "https://encrypted-tbn0.gstatic.com/images?q=tbn:ANd9GcTreP4_2GhmglKIkxINV4agnVXP7Ws0wOpdTg&usqp=CAU\n",
      "Picture 214 bad\n",
      "https://encrypted-tbn0.gstatic.com/images?q=tbn:ANd9GcTJj7txtENvvmcONSEIjirRS1y93PO9bswVRA&usqp=CAU\n",
      "Picture 215 bad\n",
      "https://encrypted-tbn0.gstatic.com/images?q=tbn:ANd9GcSaoTOm157N4KhLrMLRbWI3k-XrZgpF0rt-wg&usqp=CAU\n",
      "Picture 216 bad\n",
      "https://encrypted-tbn0.gstatic.com/images?q=tbn:ANd9GcRRIRhjBu3gnu6KNxFo8ujdFNgnOnK6zCZ1AA&usqp=CAU\n",
      "Picture 217 bad\n",
      "https://encrypted-tbn0.gstatic.com/images?q=tbn:ANd9GcT8GrA5FoluF9IiXG9hmBnaq6RZS8quAlT_fA&usqp=CAU\n",
      "Picture 218 bad\n",
      "https://encrypted-tbn0.gstatic.com/images?q=tbn:ANd9GcRkGJ9o5nGgkzI55qpLWgu3KtZwo93kGhf-Dw&usqp=CAU\n",
      "Picture 219 bad\n",
      "https://encrypted-tbn0.gstatic.com/images?q=tbn:ANd9GcQMmeOQIdhk1Pf9HfRMnvGFgMGPBsNxNKvt3w&usqp=CAU\n",
      "Picture 220 bad\n",
      "https://encrypted-tbn0.gstatic.com/images?q=tbn:ANd9GcS-ds3eWU2fQYukQhw4JhUrZXsxurVauX7rOw&usqp=CAU\n",
      "Picture 221 bad\n",
      "https://encrypted-tbn0.gstatic.com/images?q=tbn:ANd9GcSPhDtbE-6KXdmKCrIorSX5k7AvBZP5rAkeGQ&usqp=CAU\n",
      "Picture 222 bad\n",
      "https://encrypted-tbn0.gstatic.com/images?q=tbn:ANd9GcQsAB_zXxPdS12oE7ON9Jy9j2ajwdgaYCfM6Q&usqp=CAU\n",
      "Picture 223 bad\n",
      "https://encrypted-tbn0.gstatic.com/images?q=tbn:ANd9GcRFxbRDmZ1sgiqPyLlTb2SP5f_3zhXxHYdIgA&usqp=CAU\n",
      "Picture 224 bad\n",
      "https://encrypted-tbn0.gstatic.com/images?q=tbn:ANd9GcTxRmMtODtGQG58CnCH5d-MywcYMx1tCO5rWw&usqp=CAU\n",
      "Picture 225 bad\n",
      "https://encrypted-tbn0.gstatic.com/images?q=tbn:ANd9GcShyPgOVfv9CPt1hkvrAk_t6UrT_xka87nTPA&usqp=CAU\n",
      "Picture 226 bad\n",
      "https://encrypted-tbn0.gstatic.com/images?q=tbn:ANd9GcSXXYvL3B9GvDz62HLjrUGwEGarsy8dlkkf0g&usqp=CAU\n"
     ]
    }
   ],
   "source": [
    "imagescrape('Friends tv show', 'test')"
   ]
  },
  {
   "cell_type": "code",
   "execution_count": null,
   "metadata": {},
   "outputs": [],
   "source": []
  }
 ],
 "metadata": {
  "kernelspec": {
   "display_name": "Python 3",
   "language": "python",
   "name": "python3"
  },
  "language_info": {
   "codemirror_mode": {
    "name": "ipython",
    "version": 3
   },
   "file_extension": ".py",
   "mimetype": "text/x-python",
   "name": "python",
   "nbconvert_exporter": "python",
   "pygments_lexer": "ipython3",
   "version": "3.8.8"
  }
 },
 "nbformat": 4,
 "nbformat_minor": 4
}

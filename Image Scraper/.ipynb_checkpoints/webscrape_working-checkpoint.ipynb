{
 "cells": [
  {
   "cell_type": "code",
   "execution_count": 1,
   "metadata": {},
   "outputs": [],
   "source": [
    "import os\n",
    "import sys\n",
    "import requests\n",
    "import time\n",
    "from io import BytesIO\n",
    "from PIL import Image\n",
    "from bs4 import BeautifulSoup\n",
    "from selenium import webdriver # used to nav webpage"
   ]
  },
  {
   "cell_type": "code",
   "execution_count": 2,
   "metadata": {},
   "outputs": [
    {
     "data": {
      "text/plain": [
       "'/Users/jeffreybaksa/Galvanize/capstones/capstone2/Image Scraper'"
      ]
     },
     "execution_count": 2,
     "metadata": {},
     "output_type": "execute_result"
    }
   ],
   "source": [
    "pwd"
   ]
  },
  {
   "cell_type": "code",
   "execution_count": 3,
   "metadata": {},
   "outputs": [
    {
     "data": {
      "text/plain": [
       "True"
      ]
     },
     "execution_count": 3,
     "metadata": {},
     "output_type": "execute_result"
    }
   ],
   "source": [
    "chrome_driver_path = '/Users/jeffreybaksa/Galvanize/capstones/capstone2/Image Scraper/chromedriver'\n",
    "os.path.exists(chrome_driver_path) # confirm the path above exists"
   ]
  },
  {
   "cell_type": "code",
   "execution_count": 26,
   "metadata": {},
   "outputs": [],
   "source": [
    "def imagescrape(search, path):\n",
    "    path = os.path.expanduser(f\"{path}\") # splits pi vs non pi\n",
    "    os.mkdir(path) # creates folder\n",
    "    search = search.replace(' ', '+') # transforming str into search URL\n",
    "    url = f'''https://www.google.com/search?as_st=y&tbm=isch&as_q=\n",
    "              {search}&as_epq=&as_oq=&as_eq=&imgar=&imgcolor=&imgtype=\n",
    "              &cr=&as_sitesearch=&as_filetype=&tbs=&sfr=vfe&safe=images\n",
    "           '''\n",
    "    # Init selenium, searching URL\n",
    "    driver = webdriver.Chrome(executable_path=chrome_driver_path)\n",
    "    driver.get(url)\n",
    "    \n",
    "    # Parse thru Google Images\n",
    "    scroll_pause_time = 1\n",
    "    scroll_height = driver.execute_script('return document.body.scrollHeight') # how long is the page?\n",
    "    while True:\n",
    "        driver.execute_script('window.scrollTo(0, document.body.scrollHeight);') # scrolls down to the bottom\n",
    "        time.sleep(scroll_pause_time)\n",
    "        new_scroll_height = driver.execute_script('return document.body.scrollHeight')\n",
    "        if new_scroll_height == scroll_height: # check if scroll height has changed\n",
    "            try:\n",
    "                driver.find_element_by_css_selector(\"input[jsaction='Pmjnye']\").click() # click load more images button\n",
    "                continue\n",
    "            except:\n",
    "                break # stop the while loop\n",
    "        scroll_height = new_scroll_height\n",
    "    \n",
    "    # Turn into BeautifulSoup\n",
    "    page = driver.page_source\n",
    "    soup = BeautifulSoup(page, 'html.parser')\n",
    "    images = soup.find_all('img')\n",
    "    url_strings = [] \n",
    "    for i in images:\n",
    "        pic = i.get('data-src')\n",
    "        if pic == None:\n",
    "            continue\n",
    "        url_strings.append(pic)\n",
    "        \n",
    "    # Let me know how many pictures we should expect in the folder\n",
    "    url_strings = url_strings[1::]\n",
    "    print(f\"Expecting: {len(url_strings)} pics\")\n",
    "    \n",
    "    # Save the images into the folder\n",
    "    acc = 0\n",
    "    for pic in url_strings:\n",
    "        try:\n",
    "            response = requests.get(str(pic)) # cast pic as string, originally saved as the literal URL\n",
    "            img = Image.open(BytesIO(response.content)) # Use Bytes to transform the content into a form that Image.open can read\n",
    "            img.save(f\"{path}/{acc}.jpg\")\n",
    "            acc += 1\n",
    "        except:\n",
    "            print(f\"Picture {acc} bad\") # prints which images aren't able to be saved\n",
    "            acc += 1\n",
    "            print(pic) # provides link to the image that can't be saved\n",
    "    driver.close()"
   ]
  },
  {
   "cell_type": "code",
   "execution_count": 25,
   "metadata": {},
   "outputs": [
    {
     "name": "stdout",
     "output_type": "stream",
     "text": [
      "Expecting: 176 pics\n",
      "144 pic bad\n",
      "https://encrypted-tbn0.gstatic.com/images?q=tbn:ANd9GcQnoMKJyV_yNzCOADuzRtxbNZs_xTXlAuzC0g&usqp=CAU\n"
     ]
    }
   ],
   "source": [
    "imagescrape('boston ivy plant', 'boston_ivy')"
   ]
  },
  {
   "cell_type": "code",
   "execution_count": null,
   "metadata": {},
   "outputs": [],
   "source": []
  }
 ],
 "metadata": {
  "kernelspec": {
   "display_name": "Python 3",
   "language": "python",
   "name": "python3"
  },
  "language_info": {
   "codemirror_mode": {
    "name": "ipython",
    "version": 3
   },
   "file_extension": ".py",
   "mimetype": "text/x-python",
   "name": "python",
   "nbconvert_exporter": "python",
   "pygments_lexer": "ipython3",
   "version": "3.7.9"
  }
 },
 "nbformat": 4,
 "nbformat_minor": 4
}
